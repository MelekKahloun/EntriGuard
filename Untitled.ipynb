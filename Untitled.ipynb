{
 "cells": [
  {
   "cell_type": "code",
   "execution_count": 1,
   "id": "fa59069c",
   "metadata": {},
   "outputs": [
    {
     "name": "stdout",
     "output_type": "stream",
     "text": [
      " * Serving Flask app \"__main__\" (lazy loading)\n",
      " * Environment: production\n",
      "\u001b[31m   WARNING: This is a development server. Do not use it in a production deployment.\u001b[0m\n",
      "\u001b[2m   Use a production WSGI server instead.\u001b[0m\n",
      " * Debug mode: on\n"
     ]
    },
    {
     "name": "stderr",
     "output_type": "stream",
     "text": [
      " * Restarting with watchdog (windowsapi)\n"
     ]
    },
    {
     "ename": "SystemExit",
     "evalue": "1",
     "output_type": "error",
     "traceback": [
      "An exception has occurred, use %tb to see the full traceback.\n",
      "\u001b[1;31mSystemExit\u001b[0m\u001b[1;31m:\u001b[0m 1\n"
     ]
    },
    {
     "name": "stderr",
     "output_type": "stream",
     "text": [
      "C:\\Users\\lenovo\\anaconda3\\lib\\site-packages\\IPython\\core\\interactiveshell.py:3406: UserWarning: To exit: use 'exit', 'quit', or Ctrl-D.\n",
      "  warn(\"To exit: use 'exit', 'quit', or Ctrl-D.\", stacklevel=1)\n"
     ]
    }
   ],
   "source": [
    "from flask import Flask, request, jsonify\n",
    "import string\n",
    "import random\n",
    "import re\n",
    "from datetime import datetime\n",
    "from collections import Counter\n",
    "\n",
    "app = Flask(__name__)\n",
    "\n",
    "@app.route('/check_password_strength', methods=['POST'])\n",
    "def check_password_strength():\n",
    "    data = request.json\n",
    "    password = data['password']\n",
    "    username = data['username']\n",
    "    birthdate = data['birthdate']\n",
    "    email = data['email']\n",
    "\n",
    "    # Implement the check_password_strength function here\n",
    "    # (Copy the function from your backend code)\n",
    "\n",
    "    missing_criteria, score = check_password_strength(password, username, birthdate, email)\n",
    "    total_criteria = 10  # Adding the additional format check\n",
    "\n",
    "    if missing_criteria:\n",
    "        suggested_password = suggest_strong_password()\n",
    "        return jsonify({'weak': True, 'missingCriteria': missing_criteria, 'suggestedPassword': suggested_password, 'score': score})\n",
    "    else:\n",
    "        return jsonify({'weak': False, 'score': score})\n",
    "\n",
    "@app.route('/')\n",
    "def index():\n",
    "    return '''\n",
    "    <html>\n",
    "    <body>\n",
    "        <h1>Password Strength Checker</h1>\n",
    "        <form id=\"passwordForm\">\n",
    "            <label for=\"username\">Username:</label>\n",
    "            <input type=\"text\" id=\"username\" name=\"username\" required><br>\n",
    "            <label for=\"birthdate\">Birthdate (YYYY-MM-DD):</label>\n",
    "            <input type=\"text\" id=\"birthdate\" name=\"birthdate\" pattern=\"\\d{4}-\\d{2}-\\d{2}\" required><br>\n",
    "            <label for=\"email\">Email:</label>\n",
    "            <input type=\"email\" id=\"email\" name=\"email\" required><br>\n",
    "            <label for=\"password\">Password:</label>\n",
    "            <input type=\"password\" id=\"password\" name=\"password\" required><br>\n",
    "            <button type=\"button\" onclick=\"checkPassword()\">Check Password</button>\n",
    "        </form>\n",
    "        <div id=\"passwordStrength\"></div>\n",
    "        <script>\n",
    "            function checkPassword() {\n",
    "                var username = document.getElementById('username').value;\n",
    "                var birthdate = document.getElementById('birthdate').value;\n",
    "                var email = document.getElementById('email').value;\n",
    "                var password = document.getElementById('password').value;\n",
    "\n",
    "                fetch('/check_password_strength', {\n",
    "                    method: 'POST',\n",
    "                    headers: {\n",
    "                        'Content-Type': 'application/json'\n",
    "                    },\n",
    "                    body: JSON.stringify({\n",
    "                        username: username,\n",
    "                        birthdate: birthdate,\n",
    "                        email: email,\n",
    "                        password: password\n",
    "                    })\n",
    "                })\n",
    "                .then(response => response.json())\n",
    "                .then(data => {\n",
    "                    var passwordStrength = document.getElementById('passwordStrength');\n",
    "                    if (data.weak) {\n",
    "                        passwordStrength.innerHTML = '<p>Password missing criteria: ' + data.missingCriteria.join(\", \") + '</p>';\n",
    "                        passwordStrength.innerHTML += '<p>Suggested strong password: ' + data.suggestedPassword + '</p>';\n",
    "                    } else {\n",
    "                        passwordStrength.innerHTML = '<p>Password meets all criteria</p>';\n",
    "                    }\n",
    "                    passwordStrength.innerHTML += '<p>Password score: ' + data.score + '/5</p>';\n",
    "                })\n",
    "                .catch(error => {\n",
    "                    console.error('Error:', error);\n",
    "                });\n",
    "            }\n",
    "        </script>\n",
    "    </body>\n",
    "    </html>\n",
    "    '''\n",
    "\n",
    "if __name__ == '__main__':\n",
    "    app.run(debug=True)\n"
   ]
  },
  {
   "cell_type": "code",
   "execution_count": null,
   "id": "25969b59",
   "metadata": {},
   "outputs": [],
   "source": []
  }
 ],
 "metadata": {
  "kernelspec": {
   "display_name": "Python 3",
   "language": "python",
   "name": "python3"
  },
  "language_info": {
   "codemirror_mode": {
    "name": "ipython",
    "version": 3
   },
   "file_extension": ".py",
   "mimetype": "text/x-python",
   "name": "python",
   "nbconvert_exporter": "python",
   "pygments_lexer": "ipython3",
   "version": "3.9.12"
  }
 },
 "nbformat": 4,
 "nbformat_minor": 5
}
